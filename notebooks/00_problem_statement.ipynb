{
 "cells": [
  {
   "cell_type": "markdown",
   "metadata": {},
   "source": [
    "# Predicting Tennis Match Results"
   ]
  },
  {
   "cell_type": "markdown",
   "metadata": {},
   "source": [
    "## Notebook by Lauren Dellon"
   ]
  },
  {
   "cell_type": "markdown",
   "metadata": {},
   "source": [
    "## Problem Statement"
   ]
  },
  {
   "cell_type": "markdown",
   "metadata": {},
   "source": [
    "Tennis is an extremely competitive sport that involves physical skill, mental capability, and logic. But what exactly determines the winner of a tennis match? There are a multitude of different statistics in a tennis match, including number of aces, number of break points, number of double faults, and many more. What effect do these factors have on the winner of a tennis match? This is the question that this project will explore. More generally, the problem to be solved is determining what statistics or areas are most important in determining the winner of a tennis match. Additionally, machine learning models will be created to predict the outcome (win/loss) of tennis matches. "
   ]
  },
  {
   "cell_type": "markdown",
   "metadata": {},
   "source": [
    "## Possible Clients"
   ]
  },
  {
   "cell_type": "markdown",
   "metadata": {},
   "source": [
    "There are many possible clients who could benefit from this project. Most obvious would be the tennis players and coaches. Based on a predictive model, they could practice/teach the areas of the game that were found to be most important in the model. Other possible clients include tennis bettors for obvious reasons; namely, to determine which player to bet on. Finally another possible client could be sponsors, such as Nike or Wilson. "
   ]
  },
  {
   "cell_type": "markdown",
   "metadata": {},
   "source": [
    "## The Data"
   ]
  },
  {
   "cell_type": "markdown",
   "metadata": {},
   "source": [
    "Kaggle has provided a dataset including detailed information of ATP (Association of Tennis Professionals, Men) matches from 2000 to 2019. The individual match information provided includes number of aces, number of double faults, 1st serve in percentage, break points saved, and more. While the data tables from each individual year only include a winner ID and loser ID, Kaggle has also provided a separate table including information (country, birth date, etc.) about the different players and can be referenced according to the IDs in the individual match tables.\n",
    "\n",
    "Here is the Kaggle link to the dataset:\n",
    "https://www.kaggle.com/pablodroca/atp-tennis-matches-20002019?select=atp_matches_2000.csv\n",
    "\n",
    "The Kaggle link explains that this dataset was collected from the ATP site using scraping techniques by Jeff Sackmann, whose GitHub link is below.\n",
    "https://github.com/JeffSackmann/tennis_atp"
   ]
  },
  {
   "cell_type": "markdown",
   "metadata": {},
   "source": [
    "## The Notebooks"
   ]
  },
  {
   "cell_type": "markdown",
   "metadata": {},
   "source": [
    "This project will include 5 notebooks:\n",
    "\n",
    "00_problem_statement.ipynb (this notebook) \\\n",
    "01_data_wrangling.ipynb \\\n",
    "02_exploratory_data_analysis.ipynb \\\n",
    "03_preprocessing.ipynb \\\n",
    "04_modeling.ipynb"
   ]
  }
 ],
 "metadata": {
  "kernelspec": {
   "display_name": "Python 3",
   "language": "python",
   "name": "python3"
  },
  "language_info": {
   "codemirror_mode": {
    "name": "ipython",
    "version": 3
   },
   "file_extension": ".py",
   "mimetype": "text/x-python",
   "name": "python",
   "nbconvert_exporter": "python",
   "pygments_lexer": "ipython3",
   "version": "3.8.3"
  }
 },
 "nbformat": 4,
 "nbformat_minor": 4
}

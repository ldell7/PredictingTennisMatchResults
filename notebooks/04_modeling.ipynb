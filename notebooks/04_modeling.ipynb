{
 "cells": [
  {
   "cell_type": "markdown",
   "metadata": {},
   "source": [
    "# Predicting Tennis Match Results: Modeling"
   ]
  },
  {
   "cell_type": "markdown",
   "metadata": {},
   "source": [
    "## Notebook by Lauren Dellon"
   ]
  },
  {
   "cell_type": "markdown",
   "metadata": {},
   "source": [
    "## Imports"
   ]
  },
  {
   "cell_type": "code",
   "execution_count": 1,
   "metadata": {},
   "outputs": [],
   "source": [
    "import os\n",
    "import math \n",
    "import numpy as np\n",
    "import pandas as pd\n",
    "import matplotlib.pyplot as plt\n",
    "import seaborn as sns\n",
    "\n",
    "#ignore warning messages to ensure clean outputs\n",
    "import warnings\n",
    "warnings.filterwarnings('ignore')"
   ]
  },
  {
   "cell_type": "code",
   "execution_count": 2,
   "metadata": {},
   "outputs": [],
   "source": [
    "X_train = pd.read_csv('../data/X_train.csv')\n",
    "X_test = pd.read_csv('../data/X_test.csv')\n",
    "y_train = pd.read_csv('../data/y_train.csv')\n",
    "y_test = pd.read_csv('../data/y_test.csv')"
   ]
  },
  {
   "cell_type": "code",
   "execution_count": 3,
   "metadata": {},
   "outputs": [
    {
     "data": {
      "text/html": [
       "<div>\n",
       "<style scoped>\n",
       "    .dataframe tbody tr th:only-of-type {\n",
       "        vertical-align: middle;\n",
       "    }\n",
       "\n",
       "    .dataframe tbody tr th {\n",
       "        vertical-align: top;\n",
       "    }\n",
       "\n",
       "    .dataframe thead th {\n",
       "        text-align: right;\n",
       "    }\n",
       "</style>\n",
       "<table border=\"1\" class=\"dataframe\">\n",
       "  <thead>\n",
       "    <tr style=\"text-align: right;\">\n",
       "      <th></th>\n",
       "      <th>ace</th>\n",
       "      <th>bpFaced</th>\n",
       "      <th>bpSaved</th>\n",
       "      <th>df</th>\n",
       "      <th>rank</th>\n",
       "      <th>rank_points</th>\n",
       "      <th>1stIn</th>\n",
       "      <th>1stWon</th>\n",
       "      <th>2ndWon</th>\n",
       "      <th>SvGms</th>\n",
       "      <th>age</th>\n",
       "      <th>svpt</th>\n",
       "      <th>hand_R</th>\n",
       "    </tr>\n",
       "  </thead>\n",
       "  <tbody>\n",
       "    <tr>\n",
       "      <th>0</th>\n",
       "      <td>-0.047055</td>\n",
       "      <td>-0.173456</td>\n",
       "      <td>-0.972736</td>\n",
       "      <td>-0.779044</td>\n",
       "      <td>0.487718</td>\n",
       "      <td>-0.522404</td>\n",
       "      <td>0.408725</td>\n",
       "      <td>0.122228</td>\n",
       "      <td>0.261629</td>\n",
       "      <td>0.964100</td>\n",
       "      <td>0.017642</td>\n",
       "      <td>0.386759</td>\n",
       "      <td>1</td>\n",
       "    </tr>\n",
       "    <tr>\n",
       "      <th>1</th>\n",
       "      <td>-0.343893</td>\n",
       "      <td>0.986393</td>\n",
       "      <td>1.121633</td>\n",
       "      <td>-0.779044</td>\n",
       "      <td>0.536558</td>\n",
       "      <td>-0.647306</td>\n",
       "      <td>0.339556</td>\n",
       "      <td>-0.154453</td>\n",
       "      <td>0.094613</td>\n",
       "      <td>-0.054573</td>\n",
       "      <td>-1.032847</td>\n",
       "      <td>0.064975</td>\n",
       "      <td>1</td>\n",
       "    </tr>\n",
       "    <tr>\n",
       "      <th>2</th>\n",
       "      <td>0.204200</td>\n",
       "      <td>0.777540</td>\n",
       "      <td>0.310170</td>\n",
       "      <td>1.375051</td>\n",
       "      <td>-1.271896</td>\n",
       "      <td>1.369439</td>\n",
       "      <td>-0.628815</td>\n",
       "      <td>-0.707815</td>\n",
       "      <td>2.265817</td>\n",
       "      <td>0.964100</td>\n",
       "      <td>0.280264</td>\n",
       "      <td>0.892418</td>\n",
       "      <td>1</td>\n",
       "    </tr>\n",
       "    <tr>\n",
       "      <th>3</th>\n",
       "      <td>-1.195625</td>\n",
       "      <td>0.086020</td>\n",
       "      <td>0.310170</td>\n",
       "      <td>-0.140949</td>\n",
       "      <td>0.356075</td>\n",
       "      <td>-0.488212</td>\n",
       "      <td>-0.767153</td>\n",
       "      <td>-0.800042</td>\n",
       "      <td>-0.907481</td>\n",
       "      <td>-1.073246</td>\n",
       "      <td>-0.770225</td>\n",
       "      <td>-1.038282</td>\n",
       "      <td>1</td>\n",
       "    </tr>\n",
       "    <tr>\n",
       "      <th>4</th>\n",
       "      <td>-0.709929</td>\n",
       "      <td>-0.173456</td>\n",
       "      <td>0.310170</td>\n",
       "      <td>-1.755118</td>\n",
       "      <td>-0.185297</td>\n",
       "      <td>0.046279</td>\n",
       "      <td>0.754572</td>\n",
       "      <td>0.398908</td>\n",
       "      <td>-0.239418</td>\n",
       "      <td>-0.054573</td>\n",
       "      <td>0.280264</td>\n",
       "      <td>0.019006</td>\n",
       "      <td>1</td>\n",
       "    </tr>\n",
       "  </tbody>\n",
       "</table>\n",
       "</div>"
      ],
      "text/plain": [
       "        ace   bpFaced   bpSaved        df      rank  rank_points     1stIn  \\\n",
       "0 -0.047055 -0.173456 -0.972736 -0.779044  0.487718    -0.522404  0.408725   \n",
       "1 -0.343893  0.986393  1.121633 -0.779044  0.536558    -0.647306  0.339556   \n",
       "2  0.204200  0.777540  0.310170  1.375051 -1.271896     1.369439 -0.628815   \n",
       "3 -1.195625  0.086020  0.310170 -0.140949  0.356075    -0.488212 -0.767153   \n",
       "4 -0.709929 -0.173456  0.310170 -1.755118 -0.185297     0.046279  0.754572   \n",
       "\n",
       "     1stWon    2ndWon     SvGms       age      svpt  hand_R  \n",
       "0  0.122228  0.261629  0.964100  0.017642  0.386759       1  \n",
       "1 -0.154453  0.094613 -0.054573 -1.032847  0.064975       1  \n",
       "2 -0.707815  2.265817  0.964100  0.280264  0.892418       1  \n",
       "3 -0.800042 -0.907481 -1.073246 -0.770225 -1.038282       1  \n",
       "4  0.398908 -0.239418 -0.054573  0.280264  0.019006       1  "
      ]
     },
     "execution_count": 3,
     "metadata": {},
     "output_type": "execute_result"
    }
   ],
   "source": [
    "X_train.head()"
   ]
  },
  {
   "cell_type": "markdown",
   "metadata": {},
   "source": [
    "## Logistic Regression"
   ]
  },
  {
   "cell_type": "code",
   "execution_count": 4,
   "metadata": {},
   "outputs": [
    {
     "name": "stdout",
     "output_type": "stream",
     "text": [
      "0.7978081874057753\n"
     ]
    }
   ],
   "source": [
    "from sklearn.linear_model import LogisticRegression\n",
    "from sklearn.metrics import accuracy_score\n",
    "\n",
    "clf = LogisticRegression()\n",
    "# Fit the model on the trainng data.\n",
    "clf.fit(X_train, y_train)\n",
    "\n",
    "# Print the accuracy from the testing data.\n",
    "print(accuracy_score(y_test, clf.predict(X_test)))"
   ]
  },
  {
   "cell_type": "markdown",
   "metadata": {},
   "source": [
    "The accuracy without tuning the regularization parameter C is 0.798."
   ]
  },
  {
   "cell_type": "code",
   "execution_count": 5,
   "metadata": {},
   "outputs": [
    {
     "data": {
      "text/html": [
       "<div>\n",
       "<style scoped>\n",
       "    .dataframe tbody tr th:only-of-type {\n",
       "        vertical-align: middle;\n",
       "    }\n",
       "\n",
       "    .dataframe tbody tr th {\n",
       "        vertical-align: top;\n",
       "    }\n",
       "\n",
       "    .dataframe thead th {\n",
       "        text-align: right;\n",
       "    }\n",
       "</style>\n",
       "<table border=\"1\" class=\"dataframe\">\n",
       "  <thead>\n",
       "    <tr style=\"text-align: right;\">\n",
       "      <th></th>\n",
       "      <th>C_parameter</th>\n",
       "      <th>Accuracy</th>\n",
       "    </tr>\n",
       "  </thead>\n",
       "  <tbody>\n",
       "    <tr>\n",
       "      <th>0</th>\n",
       "      <td>0.001</td>\n",
       "      <td>0.791894</td>\n",
       "    </tr>\n",
       "    <tr>\n",
       "      <th>1</th>\n",
       "      <td>0.010</td>\n",
       "      <td>0.798736</td>\n",
       "    </tr>\n",
       "    <tr>\n",
       "      <th>2</th>\n",
       "      <td>0.100</td>\n",
       "      <td>0.79746</td>\n",
       "    </tr>\n",
       "    <tr>\n",
       "      <th>3</th>\n",
       "      <td>1.000</td>\n",
       "      <td>0.797808</td>\n",
       "    </tr>\n",
       "    <tr>\n",
       "      <th>4</th>\n",
       "      <td>10.000</td>\n",
       "      <td>0.79775</td>\n",
       "    </tr>\n",
       "    <tr>\n",
       "      <th>5</th>\n",
       "      <td>100.000</td>\n",
       "      <td>0.79775</td>\n",
       "    </tr>\n",
       "  </tbody>\n",
       "</table>\n",
       "</div>"
      ],
      "text/plain": [
       "   C_parameter  Accuracy\n",
       "0        0.001  0.791894\n",
       "1        0.010  0.798736\n",
       "2        0.100   0.79746\n",
       "3        1.000  0.797808\n",
       "4       10.000   0.79775\n",
       "5      100.000   0.79775"
      ]
     },
     "execution_count": 5,
     "metadata": {},
     "output_type": "execute_result"
    }
   ],
   "source": [
    "# Tuning the regularization parameter, C\n",
    "\n",
    "C_param_range = [0.001,0.01,0.1,1,10,100]\n",
    "C_param_table = pd.DataFrame(columns = ['C_parameter','Accuracy'])\n",
    "C_param_table['C_parameter'] = C_param_range\n",
    "\n",
    "j = 0\n",
    "for C in C_param_range:\n",
    "    \n",
    "    # Apply logistic regression model to training data\n",
    "    logreg = LogisticRegression(C = C,random_state = 40)\n",
    "    logreg.fit(X_train,y_train)\n",
    "    \n",
    "    # Predict using model\n",
    "    y_pred_lr = logreg.predict(X_test)\n",
    "    \n",
    "    # Saving accuracy score in table\n",
    "    C_param_table.iloc[j,1] = accuracy_score(y_test,y_pred_lr)\n",
    "    j += 1\n",
    "    \n",
    "C_param_table"
   ]
  },
  {
   "cell_type": "markdown",
   "metadata": {},
   "source": [
    "The best C is 0.01."
   ]
  },
  {
   "cell_type": "code",
   "execution_count": 6,
   "metadata": {},
   "outputs": [
    {
     "name": "stdout",
     "output_type": "stream",
     "text": [
      "Time:  0.1546209209999745\n"
     ]
    }
   ],
   "source": [
    "import timeit\n",
    "\n",
    "# Using the best regularization parameter from above\n",
    "logreg = LogisticRegression(C=0.01)\n",
    "start = timeit.default_timer()\n",
    "logreg.fit(X_train, y_train)\n",
    "stop = timeit.default_timer()\n",
    "print('Time: ', stop-start)"
   ]
  },
  {
   "cell_type": "code",
   "execution_count": 7,
   "metadata": {},
   "outputs": [
    {
     "name": "stdout",
     "output_type": "stream",
     "text": [
      "Time:  0.002824992000000748\n",
      "0.7987359387684101\n"
     ]
    }
   ],
   "source": [
    "start = timeit.default_timer()\n",
    "y_pred_lr = logreg.predict(X_test)\n",
    "stop = timeit.default_timer()\n",
    "print('Time: ', stop-start)\n",
    "accuracy_lr = logreg.score(X_test,y_test)\n",
    "\n",
    "# Print the accuracy from the testing data.\n",
    "print(accuracy_lr)"
   ]
  },
  {
   "cell_type": "code",
   "execution_count": 8,
   "metadata": {},
   "outputs": [
    {
     "name": "stdout",
     "output_type": "stream",
     "text": [
      "[[6831 1776]\n",
      " [1695 6944]]\n"
     ]
    }
   ],
   "source": [
    "from sklearn.metrics import confusion_matrix\n",
    "\n",
    "conf_matrix= confusion_matrix(y_test,y_pred_lr)\n",
    "print(conf_matrix)"
   ]
  },
  {
   "cell_type": "code",
   "execution_count": 9,
   "metadata": {},
   "outputs": [
    {
     "name": "stdout",
     "output_type": "stream",
     "text": [
      "[0.87902606 0.86629053 0.86378875 0.87118311 0.87462902]\n",
      "Mean cross validation train score: 0.8719207674198749\n",
      "Mean cross validation test score: 0.8709834933393024\n",
      "Standard deviation in cv test scores: 0.005510005834459167\n"
     ]
    }
   ],
   "source": [
    "from sklearn.model_selection import cross_val_score\n",
    "\n",
    "# Compute the ROC-AUC scores from cross-validation\n",
    "cv_scores_test= cross_val_score(logreg,X_test,y_test,cv=5,scoring='roc_auc')\n",
    "cv_scores_train= cross_val_score(logreg,X_train,y_train,cv=5,scoring='roc_auc')\n",
    "print(cv_scores_test)\n",
    "cv_scores_lr_test= cv_scores_test.mean()\n",
    "cv_scores_lr_train= cv_scores_train.mean()\n",
    "cv_scores_std_test_lr= cv_scores_test.std()\n",
    "print ('Mean cross validation train score: ' +str(cv_scores_lr_train))\n",
    "print ('Mean cross validation test score: ' +str(cv_scores_lr_test))\n",
    "print ('Standard deviation in cv test scores: ' +str(cv_scores_std_test_lr))"
   ]
  },
  {
   "cell_type": "markdown",
   "metadata": {},
   "source": [
    "## K-Nearest Neighbors (KNN)"
   ]
  },
  {
   "cell_type": "code",
   "execution_count": 10,
   "metadata": {},
   "outputs": [],
   "source": [
    "from sklearn.neighbors import KNeighborsClassifier\n",
    "\n",
    "test_scores = []\n",
    "train_scores = []\n",
    "\n",
    "for i in range(1,10):\n",
    "\n",
    "    knn = KNeighborsClassifier(i)\n",
    "    knn.fit(X_train,y_train)\n",
    "    \n",
    "    train_scores.append(knn.score(X_train,y_train))\n",
    "    test_scores.append(knn.score(X_test,y_test))"
   ]
  },
  {
   "cell_type": "code",
   "execution_count": 11,
   "metadata": {},
   "outputs": [
    {
     "name": "stdout",
     "output_type": "stream",
     "text": [
      "[1.0, 0.8511538907572771, 0.860155978197843, 0.8261191000811783, 0.8305549112837759, 0.8149136031543547, 0.8149715876145193, 0.8071291893772469, 0.8083613591557463]\n",
      "[0.7075843673895396, 0.7008581700104372, 0.7336773744636438, 0.7318798561985388, 0.7445784529746028, 0.7423750434883452, 0.747419691522672, 0.7473617070625073, 0.7515365881943639]\n"
     ]
    }
   ],
   "source": [
    "print(train_scores)\n",
    "print(test_scores)"
   ]
  },
  {
   "cell_type": "code",
   "execution_count": 12,
   "metadata": {},
   "outputs": [
    {
     "data": {
      "text/plain": [
       "[Text(0, 0.5, 'Score'), Text(0.5, 0, '# Neighbors')]"
      ]
     },
     "execution_count": 12,
     "metadata": {},
     "output_type": "execute_result"
    },
    {
     "data": {
      "image/png": "[encoded data removed]",
      "text/plain": [
       "<Figure size 864x360 with 1 Axes>"
      ]
     },
     "metadata": {
      "needs_background": "light"
     },
     "output_type": "display_data"
    }
   ],
   "source": [
    "plt.figure(figsize=(12,5))\n",
    "p = sns.lineplot(range(1,10),train_scores,marker='*',label='Train Score')\n",
    "p = sns.lineplot(range(1,10),test_scores,marker='o',label='Test Score')\n",
    "p.set(xlabel='# Neighbors',ylabel='Score')"
   ]
  },
  {
   "cell_type": "markdown",
   "metadata": {},
   "source": [
    "The best number of neighbors is 3. "
   ]
  },
  {
   "cell_type": "code",
   "execution_count": 13,
   "metadata": {},
   "outputs": [
    {
     "name": "stdout",
     "output_type": "stream",
     "text": [
      "Time:  0.2018463450000354\n"
     ]
    }
   ],
   "source": [
    "knn = KNeighborsClassifier(3)\n",
    "start = timeit.default_timer()\n",
    "knn.fit(X_train,y_train)\n",
    "stop = timeit.default_timer()\n",
    "print('Time: ', stop-start)"
   ]
  },
  {
   "cell_type": "code",
   "execution_count": 14,
   "metadata": {},
   "outputs": [
    {
     "name": "stdout",
     "output_type": "stream",
     "text": [
      "Time:  3.6272874340000953\n",
      "[[6278 2329]\n",
      " [2264 6375]]\n",
      "0.7336773744636438\n"
     ]
    }
   ],
   "source": [
    "start = timeit.default_timer()\n",
    "y_pred_knn = knn.predict(X_test)\n",
    "stop = timeit.default_timer()\n",
    "print('Time: ', stop-start)\n",
    "\n",
    "conf_matrix = confusion_matrix(y_test,y_pred_knn)\n",
    "print(conf_matrix)\n",
    "\n",
    "accuracy_knn = knn.score(X_test,y_test)\n",
    "print(accuracy_knn)"
   ]
  },
  {
   "cell_type": "code",
   "execution_count": 15,
   "metadata": {},
   "outputs": [
    {
     "name": "stdout",
     "output_type": "stream",
     "text": [
      "[0.78269978 0.78472693 0.78000533 0.77454178 0.77748518]\n",
      "Mean cross validation train score: 0.7901488452837944\n",
      "Mean cross validation test score: 0.7798918002199453\n",
      "Standard deviation in cv test scores: 0.0036246576399636375\n"
     ]
    }
   ],
   "source": [
    "# Compute the ROC-AUC scores from cross-validation\n",
    "cv_scores_test= cross_val_score(knn,X_test,y_test,cv=5,scoring='roc_auc')\n",
    "cv_scores_train= cross_val_score(knn,X_train,y_train,cv=5,scoring='roc_auc')\n",
    "print(cv_scores_test)\n",
    "cv_scores_knn_test= cv_scores_test.mean()\n",
    "cv_scores_knn_train= cv_scores_train.mean()\n",
    "cv_scores_std_test_knn= cv_scores_test.std()\n",
    "print ('Mean cross validation train score: ' +str(cv_scores_knn_train))\n",
    "print ('Mean cross validation test score: ' +str(cv_scores_knn_test))\n",
    "print ('Standard deviation in cv test scores: ' +str(cv_scores_std_test_knn))"
   ]
  },
  {
   "cell_type": "markdown",
   "metadata": {},
   "source": [
    "## Support Vector Machine (SVM)"
   ]
  },
  {
   "cell_type": "code",
   "execution_count": 16,
   "metadata": {},
   "outputs": [
    {
     "name": "stdout",
     "output_type": "stream",
     "text": [
      "Time:  81.64130967400001\n"
     ]
    }
   ],
   "source": [
    "from sklearn.svm import SVC\n",
    "\n",
    "svm = SVC()\n",
    "start = timeit.default_timer()\n",
    "svm.fit(X_train, y_train)\n",
    "stop = timeit.default_timer()\n",
    "print('Time: ', stop-start)"
   ]
  },
  {
   "cell_type": "code",
   "execution_count": 17,
   "metadata": {},
   "outputs": [
    {
     "name": "stdout",
     "output_type": "stream",
     "text": [
      "Time:  8.90058581400001\n",
      "[[6724 1883]\n",
      " [1499 7140]]\n",
      "0.8038965557230662\n"
     ]
    }
   ],
   "source": [
    "start = timeit.default_timer()\n",
    "y_pred_svm=svm.predict(X_test)\n",
    "stop = timeit.default_timer()\n",
    "print('Time: ', stop-start)\n",
    "\n",
    "conf_matrix = confusion_matrix(y_test, y_pred_svm)\n",
    "print(conf_matrix)\n",
    "\n",
    "accuracy_svm=svm.score(X_test,y_test)\n",
    "print(accuracy_svm)"
   ]
  },
  {
   "cell_type": "code",
   "execution_count": 18,
   "metadata": {},
   "outputs": [
    {
     "name": "stdout",
     "output_type": "stream",
     "text": [
      "[0.89942755 0.88945549 0.88270103 0.89648904 0.89921665]\n",
      "Mean cross validation train score: 0.894223201134588\n",
      "Mean cross validation test score: 0.8934579509314882\n",
      "Standard deviation in cv test scores: 0.0064763765525047545\n"
     ]
    }
   ],
   "source": [
    "cv_scores_test= cross_val_score(svm,X_test,y_test,cv=5,scoring='roc_auc')\n",
    "cv_scores_train= cross_val_score(svm,X_train,y_train,cv=5,scoring='roc_auc')\n",
    "print(cv_scores_test)\n",
    "cv_scores_svm_test= cv_scores_test.mean()\n",
    "cv_scores_svm_train= cv_scores_train.mean()\n",
    "cv_scores_std_test_svm= cv_scores_test.std()\n",
    "print ('Mean cross validation train score: ' +str(cv_scores_svm_train))\n",
    "print ('Mean cross validation test score: ' +str(cv_scores_svm_test))\n",
    "print ('Standard deviation in cv test scores: ' +str(cv_scores_std_test_svm))"
   ]
  },
  {
   "cell_type": "markdown",
   "metadata": {},
   "source": [
    "## Random Forest"
   ]
  },
  {
   "cell_type": "code",
   "execution_count": 19,
   "metadata": {},
   "outputs": [
    {
     "name": "stdout",
     "output_type": "stream",
     "text": [
      "Time:  7.406532428999981\n"
     ]
    }
   ],
   "source": [
    "from sklearn.ensemble import RandomForestClassifier\n",
    "\n",
    "rf = RandomForestClassifier(bootstrap=True,n_estimators=100,criterion='entropy')\n",
    "start = timeit.default_timer()\n",
    "rf.fit(X_train, y_train)\n",
    "stop = timeit.default_timer()\n",
    "print('Time: ', stop-start)"
   ]
  },
  {
   "cell_type": "code",
   "execution_count": 20,
   "metadata": {},
   "outputs": [
    {
     "name": "stdout",
     "output_type": "stream",
     "text": [
      "Time:  0.3299848040001052\n",
      "[[6831 1776]\n",
      " [1823 6816]]\n",
      "0.7913139278673316\n"
     ]
    }
   ],
   "source": [
    "start = timeit.default_timer()\n",
    "y_pred_rf = rf.predict(X_test)\n",
    "stop = timeit.default_timer()\n",
    "print('Time: ', stop-start)\n",
    "\n",
    "conf_matrix = confusion_matrix(y_test, y_pred_rf)\n",
    "print(conf_matrix)\n",
    "\n",
    "accuracy_rf=rf.score(X_test,y_test)\n",
    "print(accuracy_rf)"
   ]
  },
  {
   "cell_type": "code",
   "execution_count": 21,
   "metadata": {},
   "outputs": [
    {
     "name": "stdout",
     "output_type": "stream",
     "text": [
      "[0.88897391 0.8789144  0.87636589 0.88377151 0.88135001]\n",
      "Mean cross validation train score: 0.888040817610783\n",
      "Mean cross validation test score: 0.8818751455991464\n",
      "Standard deviation in cv test scores: 0.004321629000019859\n"
     ]
    }
   ],
   "source": [
    "cv_scores_test= cross_val_score(rf,X_test,y_test,cv=5,scoring='roc_auc')\n",
    "cv_scores_train= cross_val_score(rf,X_train,y_train,cv=5,scoring='roc_auc')\n",
    "print(cv_scores_test)\n",
    "cv_scores_rf_test= cv_scores_test.mean()\n",
    "cv_scores_rf_train= cv_scores_train.mean()\n",
    "cv_scores_std_test_rf= cv_scores_test.std()\n",
    "print ('Mean cross validation train score: ' +str(cv_scores_rf_train))\n",
    "print ('Mean cross validation test score: ' +str(cv_scores_rf_test))\n",
    "print ('Standard deviation in cv test scores: ' +str(cv_scores_std_test_rf))"
   ]
  },
  {
   "cell_type": "markdown",
   "metadata": {},
   "source": [
    "## Gradient Boosting"
   ]
  },
  {
   "cell_type": "code",
   "execution_count": 22,
   "metadata": {},
   "outputs": [
    {
     "name": "stdout",
     "output_type": "stream",
     "text": [
      "Time:  6.9961701439999615\n"
     ]
    }
   ],
   "source": [
    "from sklearn.ensemble import GradientBoostingClassifier\n",
    "\n",
    "gb = GradientBoostingClassifier()\n",
    "start = timeit.default_timer()\n",
    "gb.fit(X_train, y_train)\n",
    "stop = timeit.default_timer()\n",
    "print('Time: ', stop-start)"
   ]
  },
  {
   "cell_type": "code",
   "execution_count": 23,
   "metadata": {},
   "outputs": [
    {
     "name": "stdout",
     "output_type": "stream",
     "text": [
      "Time:  0.03428721000000223\n",
      "[[6910 1697]\n",
      " [1850 6789]]\n",
      "0.7943291197958947\n"
     ]
    }
   ],
   "source": [
    "start = timeit.default_timer()\n",
    "y_pred_gb = gb.predict(X_test)\n",
    "stop = timeit.default_timer()\n",
    "print('Time: ', stop-start)\n",
    "\n",
    "conf_matrix = confusion_matrix(y_test, y_pred_gb)\n",
    "print(conf_matrix)\n",
    "\n",
    "accuracy_gb=gb.score(X_test,y_test)\n",
    "print(accuracy_gb)"
   ]
  },
  {
   "cell_type": "code",
   "execution_count": 24,
   "metadata": {},
   "outputs": [
    {
     "name": "stdout",
     "output_type": "stream",
     "text": [
      "[0.89750727 0.88504813 0.88055065 0.88841543 0.89036277]\n",
      "Mean cross validation train score: 0.8878103194343175\n",
      "Mean cross validation test score: 0.8883768497842957\n",
      "Standard deviation in cv test scores: 0.005650484133086371\n"
     ]
    }
   ],
   "source": [
    "cv_scores_test= cross_val_score(gb,X_test,y_test,cv=5,scoring='roc_auc')\n",
    "cv_scores_train= cross_val_score(gb,X_train,y_train,cv=5,scoring='roc_auc')\n",
    "print(cv_scores_test)\n",
    "cv_scores_gb_test= cv_scores_test.mean()\n",
    "cv_scores_gb_train= cv_scores_train.mean()\n",
    "cv_scores_std_test_gb= cv_scores_test.std()\n",
    "print ('Mean cross validation train score: ' +str(cv_scores_gb_train))\n",
    "print ('Mean cross validation test score: ' +str(cv_scores_gb_test))\n",
    "print ('Standard deviation in cv test scores: ' +str(cv_scores_std_test_gb))"
   ]
  },
  {
   "cell_type": "markdown",
   "metadata": {},
   "source": [
    "## Naive Bayes"
   ]
  },
  {
   "cell_type": "code",
   "execution_count": 25,
   "metadata": {},
   "outputs": [
    {
     "name": "stdout",
     "output_type": "stream",
     "text": [
      "Time:  0.02303622199997335\n"
     ]
    }
   ],
   "source": [
    "from sklearn.naive_bayes import GaussianNB\n",
    "\n",
    "nb = GaussianNB()\n",
    "start = timeit.default_timer()\n",
    "nb.fit(X_train, y_train)\n",
    "stop = timeit.default_timer()\n",
    "print('Time: ', stop-start)"
   ]
  },
  {
   "cell_type": "code",
   "execution_count": 26,
   "metadata": {},
   "outputs": [
    {
     "name": "stdout",
     "output_type": "stream",
     "text": [
      "Time:  0.005196474000058515\n",
      "[[6502 2105]\n",
      " [2804 5835]]\n",
      "0.7153542850516061\n"
     ]
    }
   ],
   "source": [
    "start = timeit.default_timer()\n",
    "y_pred_nb = nb.predict(X_test)\n",
    "stop = timeit.default_timer()\n",
    "print('Time: ', stop-start)\n",
    "\n",
    "conf_matrix = confusion_matrix(y_test, y_pred_nb)\n",
    "print(conf_matrix)\n",
    "\n",
    "accuracy_nb=nb.score(X_test,y_test)\n",
    "print(accuracy_nb)"
   ]
  },
  {
   "cell_type": "code",
   "execution_count": 27,
   "metadata": {},
   "outputs": [
    {
     "name": "stdout",
     "output_type": "stream",
     "text": [
      "[0.79980381 0.78898835 0.78599766 0.7876766  0.7832374 ]\n",
      "Mean cross validation train score: 0.7863123340210902\n",
      "Mean cross validation test score: 0.7891407638485376\n",
      "Standard deviation in cv test scores: 0.005667385466825737\n"
     ]
    }
   ],
   "source": [
    "cv_scores_test= cross_val_score(nb,X_test,y_test,cv=5,scoring='roc_auc')\n",
    "cv_scores_train= cross_val_score(nb,X_train,y_train,cv=5,scoring='roc_auc')\n",
    "print(cv_scores_test)\n",
    "cv_scores_nb_test= cv_scores_test.mean()\n",
    "cv_scores_nb_train= cv_scores_train.mean()\n",
    "cv_scores_std_test_nb= cv_scores_test.std()\n",
    "print ('Mean cross validation train score: ' +str(cv_scores_nb_train))\n",
    "print ('Mean cross validation test score: ' +str(cv_scores_nb_test))\n",
    "print ('Standard deviation in cv test scores: ' +str(cv_scores_std_test_nb))"
   ]
  },
  {
   "cell_type": "markdown",
   "metadata": {},
   "source": [
    "## Model Comparison"
   ]
  },
  {
   "cell_type": "markdown",
   "metadata": {},
   "source": [
    "I applied different ML models and evaluated their performances in terms of ROC-AUC score for both the training and test data. Here I have tabulated the scores."
   ]
  },
  {
   "cell_type": "code",
   "execution_count": 28,
   "metadata": {
    "scrolled": false
   },
   "outputs": [
    {
     "name": "stdout",
     "output_type": "stream",
     "text": [
      "             Algorithm  Model Accuracy Score\n",
      "0  Logistic Regression              0.798736\n",
      "1                  KNN              0.733677\n",
      "2                  SVM              0.803897\n",
      "3        Random Forest              0.791314\n",
      "4    Gradient Boosting              0.794329\n",
      "5          Naive Bayes              0.715354\n"
     ]
    },
    {
     "data": {
      "text/html": [
       "<div>\n",
       "<style scoped>\n",
       "    .dataframe tbody tr th:only-of-type {\n",
       "        vertical-align: middle;\n",
       "    }\n",
       "\n",
       "    .dataframe tbody tr th {\n",
       "        vertical-align: top;\n",
       "    }\n",
       "\n",
       "    .dataframe thead th {\n",
       "        text-align: right;\n",
       "    }\n",
       "</style>\n",
       "<table border=\"1\" class=\"dataframe\">\n",
       "  <thead>\n",
       "    <tr style=\"text-align: right;\">\n",
       "      <th></th>\n",
       "      <th>Algorithm</th>\n",
       "      <th>ROC-AUC Train Score</th>\n",
       "      <th>ROC-AUC Test Score</th>\n",
       "    </tr>\n",
       "  </thead>\n",
       "  <tbody>\n",
       "    <tr>\n",
       "      <th>0</th>\n",
       "      <td>Logistic Regression</td>\n",
       "      <td>0.871921</td>\n",
       "      <td>0.870983</td>\n",
       "    </tr>\n",
       "    <tr>\n",
       "      <th>1</th>\n",
       "      <td>KNN</td>\n",
       "      <td>0.790149</td>\n",
       "      <td>0.779892</td>\n",
       "    </tr>\n",
       "    <tr>\n",
       "      <th>2</th>\n",
       "      <td>SVM</td>\n",
       "      <td>0.894223</td>\n",
       "      <td>0.893458</td>\n",
       "    </tr>\n",
       "    <tr>\n",
       "      <th>3</th>\n",
       "      <td>Random Forest</td>\n",
       "      <td>0.888041</td>\n",
       "      <td>0.881875</td>\n",
       "    </tr>\n",
       "    <tr>\n",
       "      <th>4</th>\n",
       "      <td>Gradient Boosting</td>\n",
       "      <td>0.887810</td>\n",
       "      <td>0.888377</td>\n",
       "    </tr>\n",
       "    <tr>\n",
       "      <th>5</th>\n",
       "      <td>Naive Bayes</td>\n",
       "      <td>0.786312</td>\n",
       "      <td>0.789141</td>\n",
       "    </tr>\n",
       "  </tbody>\n",
       "</table>\n",
       "</div>"
      ],
      "text/plain": [
       "             Algorithm  ROC-AUC Train Score  ROC-AUC Test Score\n",
       "0  Logistic Regression             0.871921            0.870983\n",
       "1                  KNN             0.790149            0.779892\n",
       "2                  SVM             0.894223            0.893458\n",
       "3        Random Forest             0.888041            0.881875\n",
       "4    Gradient Boosting             0.887810            0.888377\n",
       "5          Naive Bayes             0.786312            0.789141"
      ]
     },
     "execution_count": 28,
     "metadata": {},
     "output_type": "execute_result"
    }
   ],
   "source": [
    "labels = ['Logistic Regression','KNN','SVM','Random Forest','Gradient Boosting','Naive Bayes']\n",
    "scores_test= [cv_scores_lr_test,cv_scores_knn_test,cv_scores_svm_test,cv_scores_rf_test,cv_scores_gb_test,cv_scores_nb_test]\n",
    "scores_train= [cv_scores_lr_train,cv_scores_knn_train,cv_scores_svm_train,cv_scores_rf_train,cv_scores_gb_train,cv_scores_nb_train]\n",
    "accuracy_scores = [accuracy_lr,accuracy_knn,accuracy_svm,accuracy_rf,accuracy_gb,accuracy_nb]\n",
    "\n",
    "score_tab_acc = pd.DataFrame(list(zip(labels, accuracy_scores)), \n",
    "               columns =['Algorithm', 'Model Accuracy Score']) \n",
    "\n",
    "score_tab = pd.DataFrame(list(zip(labels, scores_train, scores_test)), \n",
    "               columns =['Algorithm', 'ROC-AUC Train Score', 'ROC-AUC Test Score' ]) \n",
    "print(score_tab_acc)\n",
    "\n",
    "score_tab"
   ]
  },
  {
   "cell_type": "code",
   "execution_count": 29,
   "metadata": {},
   "outputs": [
    {
     "data": {
      "text/plain": [
       "<matplotlib.legend.Legend at 0x7f97f0eae490>"
      ]
     },
     "execution_count": 29,
     "metadata": {},
     "output_type": "execute_result"
    },
    {
     "data": {
      "image/png": "[encoded data removed]",
      "text/plain": [
       "<Figure size 720x360 with 1 Axes>"
      ]
     },
     "metadata": {
      "needs_background": "light"
     },
     "output_type": "display_data"
    },
    {
     "data": {
      "image/png": "[encoded data removed]",
      "text/plain": [
       "<Figure size 720x360 with 1 Axes>"
      ]
     },
     "metadata": {
      "needs_background": "light"
     },
     "output_type": "display_data"
    }
   ],
   "source": [
    "# Plotting the accuracy scores\n",
    "index=[1,2,3,4,5,6]\n",
    "index_acc=[1.2,2.2,3.2,4.2,5.2,6.2]\n",
    "plt.figure(figsize=(10,5))\n",
    "plt.xlabel('Models',fontsize=15)\n",
    "plt.ylabel ('Model Accuracy Scores',fontsize=15)\n",
    "plt.title('Comparison of the Algorithms',fontsize=15)\n",
    "_=plt.bar(index_acc,accuracy_scores,color='green',alpha=0.8,label='Accuracy Scores',edgecolor='k',width=0.3)\n",
    "plt.xticks([1, 2,3,4,5,6], labels)\n",
    "\n",
    "# Plotting and comparing ROC-AUC train/test scores\n",
    "index=[1,2,3,4,5,6]\n",
    "index_acc=[1.2,2.2,3.2,4.2,5.2,6.2]\n",
    "plt.figure(figsize=(10,5))\n",
    "plt.xlabel('Models',fontsize=15)\n",
    "plt.ylabel ('ROC-AUC Scores',fontsize=15)\n",
    "plt.title('Comparison of the Algorithms',fontsize=15)\n",
    "_=plt.bar(index,scores_train,color='b',alpha=0.6,label='Training Score',edgecolor='k',width=0.2)\n",
    "_=plt.bar(index_acc,scores_test,color='cyan',alpha=0.8,label='Test Score',edgecolor='k',width=0.2)\n",
    "plt.xticks([1, 2,3,4,5,6], labels)\n",
    "plt.legend()"
   ]
  },
  {
   "cell_type": "markdown",
   "metadata": {},
   "source": [
    "Taking the model accuracy score, the ROC-AUC train and test scores, and the time to train and make predictions into account, the best model is the Logistic Regression Model. This is because it has one of the highest model accuracy scores and ROC-AUC train/test scores, but it is the quickest model by far. Therefore, I select it as the best model based on efficiency."
   ]
  },
  {
   "cell_type": "markdown",
   "metadata": {},
   "source": [
    "I will now attempt to achieve a better score for the Logistic Regression Model by hyperparameter tuning."
   ]
  },
  {
   "cell_type": "markdown",
   "metadata": {},
   "source": [
    "## Applying GridSearchCV for hyperparameter tuning for Logistic Regression Model"
   ]
  },
  {
   "cell_type": "code",
   "execution_count": 31,
   "metadata": {},
   "outputs": [
    {
     "name": "stdout",
     "output_type": "stream",
     "text": [
      "Fitting 3 folds for each of 18 candidates, totalling 54 fits\n",
      "[CV] C=0.001, solver=newton-cg .......................................\n",
      "[CV] ........... C=0.001, solver=newton-cg, score=0.778, total=   0.1s\n",
      "[CV] C=0.001, solver=newton-cg .......................................\n"
     ]
    },
    {
     "name": "stderr",
     "output_type": "stream",
     "text": [
      "[Parallel(n_jobs=1)]: Using backend SequentialBackend with 1 concurrent workers.\n",
      "[Parallel(n_jobs=1)]: Done   1 out of   1 | elapsed:    0.1s remaining:    0.0s\n"
     ]
    },
    {
     "name": "stdout",
     "output_type": "stream",
     "text": [
      "[CV] ........... C=0.001, solver=newton-cg, score=0.782, total=   0.1s\n",
      "[CV] C=0.001, solver=newton-cg .......................................\n",
      "[CV] ........... C=0.001, solver=newton-cg, score=0.781, total=   0.1s\n",
      "[CV] C=0.001, solver=lbfgs ...........................................\n",
      "[CV] ............... C=0.001, solver=lbfgs, score=0.778, total=   0.1s\n",
      "[CV] C=0.001, solver=lbfgs ...........................................\n"
     ]
    },
    {
     "name": "stderr",
     "output_type": "stream",
     "text": [
      "[Parallel(n_jobs=1)]: Done   2 out of   2 | elapsed:    0.3s remaining:    0.0s\n"
     ]
    },
    {
     "name": "stdout",
     "output_type": "stream",
     "text": [
      "[CV] ............... C=0.001, solver=lbfgs, score=0.782, total=   0.1s\n",
      "[CV] C=0.001, solver=lbfgs ...........................................\n",
      "[CV] ............... C=0.001, solver=lbfgs, score=0.781, total=   0.1s\n",
      "[CV] C=0.001, solver=liblinear .......................................\n",
      "[CV] ........... C=0.001, solver=liblinear, score=0.778, total=   0.1s\n",
      "[CV] C=0.001, solver=liblinear .......................................\n",
      "[CV] ........... C=0.001, solver=liblinear, score=0.782, total=   0.1s\n",
      "[CV] C=0.001, solver=liblinear .......................................\n",
      "[CV] ........... C=0.001, solver=liblinear, score=0.781, total=   0.1s\n",
      "[CV] C=0.01, solver=newton-cg ........................................\n",
      "[CV] ............ C=0.01, solver=newton-cg, score=0.791, total=   0.2s\n",
      "[CV] C=0.01, solver=newton-cg ........................................\n",
      "[CV] ............ C=0.01, solver=newton-cg, score=0.795, total=   0.2s\n",
      "[CV] C=0.01, solver=newton-cg ........................................\n",
      "[CV] ............ C=0.01, solver=newton-cg, score=0.793, total=   0.1s\n",
      "[CV] C=0.01, solver=lbfgs ............................................\n",
      "[CV] ................ C=0.01, solver=lbfgs, score=0.791, total=   0.1s\n",
      "[CV] C=0.01, solver=lbfgs ............................................\n",
      "[CV] ................ C=0.01, solver=lbfgs, score=0.795, total=   0.1s\n",
      "[CV] C=0.01, solver=lbfgs ............................................\n",
      "[CV] ................ C=0.01, solver=lbfgs, score=0.793, total=   0.1s\n",
      "[CV] C=0.01, solver=liblinear ........................................\n",
      "[CV] ............ C=0.01, solver=liblinear, score=0.791, total=   0.1s\n",
      "[CV] C=0.01, solver=liblinear ........................................\n",
      "[CV] ............ C=0.01, solver=liblinear, score=0.795, total=   0.1s\n",
      "[CV] C=0.01, solver=liblinear ........................................\n",
      "[CV] ............ C=0.01, solver=liblinear, score=0.793, total=   0.1s\n",
      "[CV] C=0.1, solver=newton-cg .........................................\n",
      "[CV] ............. C=0.1, solver=newton-cg, score=0.792, total=   0.1s\n",
      "[CV] C=0.1, solver=newton-cg .........................................\n",
      "[CV] ............. C=0.1, solver=newton-cg, score=0.796, total=   0.2s\n",
      "[CV] C=0.1, solver=newton-cg .........................................\n",
      "[CV] ............. C=0.1, solver=newton-cg, score=0.794, total=   0.2s\n",
      "[CV] C=0.1, solver=lbfgs .............................................\n",
      "[CV] ................. C=0.1, solver=lbfgs, score=0.792, total=   0.1s\n",
      "[CV] C=0.1, solver=lbfgs .............................................\n",
      "[CV] ................. C=0.1, solver=lbfgs, score=0.796, total=   0.1s\n",
      "[CV] C=0.1, solver=lbfgs .............................................\n",
      "[CV] ................. C=0.1, solver=lbfgs, score=0.794, total=   0.1s\n",
      "[CV] C=0.1, solver=liblinear .........................................\n",
      "[CV] ............. C=0.1, solver=liblinear, score=0.792, total=   0.2s\n",
      "[CV] C=0.1, solver=liblinear .........................................\n",
      "[CV] ............. C=0.1, solver=liblinear, score=0.796, total=   0.1s\n",
      "[CV] C=0.1, solver=liblinear .........................................\n",
      "[CV] ............. C=0.1, solver=liblinear, score=0.794, total=   0.2s\n",
      "[CV] C=1, solver=newton-cg ...........................................\n",
      "[CV] ............... C=1, solver=newton-cg, score=0.792, total=   0.2s\n",
      "[CV] C=1, solver=newton-cg ...........................................\n",
      "[CV] ............... C=1, solver=newton-cg, score=0.796, total=   0.2s\n",
      "[CV] C=1, solver=newton-cg ...........................................\n",
      "[CV] ............... C=1, solver=newton-cg, score=0.794, total=   0.2s\n",
      "[CV] C=1, solver=lbfgs ...............................................\n",
      "[CV] ................... C=1, solver=lbfgs, score=0.792, total=   0.1s\n",
      "[CV] C=1, solver=lbfgs ...............................................\n",
      "[CV] ................... C=1, solver=lbfgs, score=0.796, total=   0.1s\n",
      "[CV] C=1, solver=lbfgs ...............................................\n",
      "[CV] ................... C=1, solver=lbfgs, score=0.794, total=   0.1s\n",
      "[CV] C=1, solver=liblinear ...........................................\n",
      "[CV] ............... C=1, solver=liblinear, score=0.792, total=   0.2s\n",
      "[CV] C=1, solver=liblinear ...........................................\n",
      "[CV] ............... C=1, solver=liblinear, score=0.796, total=   0.2s\n",
      "[CV] C=1, solver=liblinear ...........................................\n",
      "[CV] ............... C=1, solver=liblinear, score=0.794, total=   0.2s\n",
      "[CV] C=10, solver=newton-cg ..........................................\n",
      "[CV] .............. C=10, solver=newton-cg, score=0.792, total=   0.1s\n",
      "[CV] C=10, solver=newton-cg ..........................................\n",
      "[CV] .............. C=10, solver=newton-cg, score=0.796, total=   0.1s\n",
      "[CV] C=10, solver=newton-cg ..........................................\n",
      "[CV] .............. C=10, solver=newton-cg, score=0.794, total=   0.2s\n",
      "[CV] C=10, solver=lbfgs ..............................................\n",
      "[CV] .................. C=10, solver=lbfgs, score=0.792, total=   0.1s\n",
      "[CV] C=10, solver=lbfgs ..............................................\n",
      "[CV] .................. C=10, solver=lbfgs, score=0.796, total=   0.1s\n",
      "[CV] C=10, solver=lbfgs ..............................................\n",
      "[CV] .................. C=10, solver=lbfgs, score=0.794, total=   0.1s\n",
      "[CV] C=10, solver=liblinear ..........................................\n",
      "[CV] .............. C=10, solver=liblinear, score=0.792, total=   0.2s\n",
      "[CV] C=10, solver=liblinear ..........................................\n",
      "[CV] .............. C=10, solver=liblinear, score=0.796, total=   0.2s\n",
      "[CV] C=10, solver=liblinear ..........................................\n",
      "[CV] .............. C=10, solver=liblinear, score=0.794, total=   0.2s\n",
      "[CV] C=100, solver=newton-cg .........................................\n",
      "[CV] ............. C=100, solver=newton-cg, score=0.792, total=   0.1s\n",
      "[CV] C=100, solver=newton-cg .........................................\n",
      "[CV] ............. C=100, solver=newton-cg, score=0.796, total=   0.2s\n",
      "[CV] C=100, solver=newton-cg .........................................\n",
      "[CV] ............. C=100, solver=newton-cg, score=0.794, total=   0.1s\n",
      "[CV] C=100, solver=lbfgs .............................................\n",
      "[CV] ................. C=100, solver=lbfgs, score=0.792, total=   0.1s\n",
      "[CV] C=100, solver=lbfgs .............................................\n",
      "[CV] ................. C=100, solver=lbfgs, score=0.796, total=   0.1s\n",
      "[CV] C=100, solver=lbfgs .............................................\n",
      "[CV] ................. C=100, solver=lbfgs, score=0.794, total=   0.1s\n",
      "[CV] C=100, solver=liblinear .........................................\n",
      "[CV] ............. C=100, solver=liblinear, score=0.792, total=   0.2s\n",
      "[CV] C=100, solver=liblinear .........................................\n",
      "[CV] ............. C=100, solver=liblinear, score=0.796, total=   0.2s\n",
      "[CV] C=100, solver=liblinear .........................................\n",
      "[CV] ............. C=100, solver=liblinear, score=0.794, total=   0.1s\n"
     ]
    },
    {
     "name": "stderr",
     "output_type": "stream",
     "text": [
      "[Parallel(n_jobs=1)]: Done  54 out of  54 | elapsed:    7.4s finished\n"
     ]
    },
    {
     "name": "stdout",
     "output_type": "stream",
     "text": [
      "LogisticRegression(C=1, solver='newton-cg')\n",
      "0.7941986586666974\n",
      "{'C': 1, 'solver': 'newton-cg'}\n"
     ]
    }
   ],
   "source": [
    "from sklearn.model_selection import GridSearchCV \n",
    "\n",
    "# Tuning solver and C value\n",
    "solvers = ['newton-cg','lbfgs','liblinear']\n",
    "C_values = [0.001,0.01,0.1,1,10,100]\n",
    "param_grid = dict(solver=solvers,C=C_values)\n",
    "              \n",
    "grid = GridSearchCV(estimator=LogisticRegression(), param_grid=param_grid, scoring='accuracy',cv=3, verbose=3)\n",
    "\n",
    "grid = grid.fit(X_train,y_train)\n",
    "\n",
    "print(grid.best_estimator_)\n",
    "print(grid.best_score_)\n",
    "print(grid.best_params_)"
   ]
  },
  {
   "cell_type": "markdown",
   "metadata": {},
   "source": [
    "After hyperparameter tuning, the best parameters for the Logistic Regression Model are C=1, solver='newton-cg'. The accuracy score is 79.42%."
   ]
  },
  {
   "cell_type": "markdown",
   "metadata": {},
   "source": [
    "Next, the feature importances are extracted from the Random Forest Model."
   ]
  },
  {
   "cell_type": "markdown",
   "metadata": {},
   "source": [
    "## Feature Importances from Random Forest Model"
   ]
  },
  {
   "cell_type": "code",
   "execution_count": 32,
   "metadata": {},
   "outputs": [
    {
     "data": {
      "text/plain": [
       "Text(0, 0.5, 'Feature Importance Score')"
      ]
     },
     "execution_count": 32,
     "metadata": {},
     "output_type": "execute_result"
    },
    {
     "data": {
      "image/png": "[encoded data removed]",
      "text/plain": [
       "<Figure size 432x288 with 1 Axes>"
      ]
     },
     "metadata": {
      "needs_background": "light"
     },
     "output_type": "display_data"
    }
   ],
   "source": [
    "predictors = list(X_train)\n",
    "feat_imp = pd.Series(rf.feature_importances_, predictors).sort_values(ascending=False)\n",
    "feat_imp.plot(kind='bar',title='Importance of Features')\n",
    "plt.ylabel('Feature Importance Score')"
   ]
  },
  {
   "cell_type": "markdown",
   "metadata": {},
   "source": [
    "## ROC-AUC Curve for Random Forest Model"
   ]
  },
  {
   "cell_type": "code",
   "execution_count": 33,
   "metadata": {},
   "outputs": [
    {
     "name": "stdout",
     "output_type": "stream",
     "text": [
      "ROC-AUC Score: 0.8906876864992226\n"
     ]
    }
   ],
   "source": [
    "from sklearn.metrics import auc, roc_curve, roc_auc_score\n",
    "y_scores_rf = rf.predict_proba(X_test)\n",
    "y_scores_rf = y_scores_rf[:,1]\n",
    "auroc = roc_auc_score(y_test, y_scores_rf)\n",
    "print(\"ROC-AUC Score:\", auroc)"
   ]
  },
  {
   "cell_type": "code",
   "execution_count": 34,
   "metadata": {},
   "outputs": [
    {
     "data": {
      "image/png": "[encoded data removed]",
      "text/plain": [
       "<Figure size 720x360 with 1 Axes>"
      ]
     },
     "metadata": {
      "needs_background": "light"
     },
     "output_type": "display_data"
    }
   ],
   "source": [
    "false_positive_rate, true_positive_rate, thresholds = roc_curve(y_test, y_scores_rf)\n",
    "def plot_roc_curve(false_positive_rate, true_positive_rate, label=None):\n",
    "    plt.plot(false_positive_rate, true_positive_rate, linewidth=2, label=label)\n",
    "    plt.plot([0, 1], [0, 1], 'r', linewidth=4)\n",
    "    plt.axis([0, 1, 0, 1])\n",
    "    plt.xlabel('False Positive Rate (FPR)', fontsize=15)\n",
    "    plt.ylabel('True Positive Rate (TPR)', fontsize=15)\n",
    "    plt.title('ROC curve (RF)',fontsize=15)\n",
    "\n",
    "plt.figure(figsize=(10, 5))\n",
    "plot_roc_curve(false_positive_rate, true_positive_rate)"
   ]
  },
  {
   "cell_type": "markdown",
   "metadata": {},
   "source": [
    "## Conclusions"
   ]
  },
  {
   "cell_type": "markdown",
   "metadata": {},
   "source": [
    "- In order to predict the outcome of tennis matches, I have considered 13 features.\n",
    "- This is a classification problem. I have used the following classification models: Logistic Regression, K-Nearest Neighbor (KNN), Support Vector Machine (SVM), Random Forest, Gradient Boosting, Naive Bayes\n",
    "- The dataframe was split into a training set and a test set. Additionally, cross-validation was performed.\n",
    "- Each of the models was evaluated in terms of model accuracy score and ROC-AUC score for the training and test sets.\n",
    "- The best model was the Logistic Regression model based on time to train and make predictions.\n",
    "- Hyperparameter tuning was performed for the Logistic Regression model. The best parameters were C=1, solver='newton-cg'.\n",
    "- Finally, in order to look at feature importances, I looked at the random forest model. The two most important features were break points faced and 1st serve points won. \n",
    "- I also plotted an ROC curve for the random forest model."
   ]
  },
  {
   "cell_type": "markdown",
   "metadata": {},
   "source": [
    "## Future Directions"
   ]
  },
  {
   "cell_type": "markdown",
   "metadata": {},
   "source": [
    "- Here, I have used data for the years 2000-2019, but data is available starting from 1968. The model could possibly be improved if I use data from earlier years.\n",
    "- I could try to perform more hyperparameter tuning for the individual models.\n",
    "- I could investigate model stacking, which utilizes multiple learning algorithms.\n",
    "- I used all 13 features in my models. I could define an importance cutoff and use features only with an importance higher than the cutoff. "
   ]
  },
  {
   "cell_type": "markdown",
   "metadata": {},
   "source": [
    "Note: The format of this notebook was adapted from https://github.com/debisree/Springboard-Data-Science-Career-Track/blob/master/Capstone_1_predicting_cab_booking_cancellation/predicting-cab-booking-cancellations-ML.ipynb "
   ]
  }
 ],
 "metadata": {
  "kernelspec": {
   "display_name": "Python 3",
   "language": "python",
   "name": "python3"
  },
  "language_info": {
   "codemirror_mode": {
    "name": "ipython",
    "version": 3
   },
   "file_extension": ".py",
   "mimetype": "text/x-python",
   "name": "python",
   "nbconvert_exporter": "python",
   "pygments_lexer": "ipython3",
   "version": "3.8.3"
  }
 },
 "nbformat": 4,
 "nbformat_minor": 4
}
